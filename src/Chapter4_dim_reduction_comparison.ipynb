{
 "cells": [
  {
   "cell_type": "markdown",
   "metadata": {},
   "source": [
    "# Comparison of Dimension Reduction Models"
   ]
  },
  {
   "cell_type": "code",
   "execution_count": 1,
   "metadata": {},
   "outputs": [
    {
     "name": "stderr",
     "output_type": "stream",
     "text": [
      "2022-07-29 16:10:05.394292: W tensorflow/stream_executor/platform/default/dso_loader.cc:64] Could not load dynamic library 'libcudart.so.11.0'; dlerror: libcudart.so.11.0: cannot open shared object file: No such file or directory; LD_LIBRARY_PATH: /usr/lib/cuda/include:/home/matt/anaconda3/envs/phd/lib/libcudart.so.11.0:/home/matt/anaconda3/pkgs/cudatoolkit-11.4.1-h8ab8bb3_9/lib/libcudart.so.11.0:/usr/lib/cuda/lib64:\n",
      "2022-07-29 16:10:05.394308: I tensorflow/stream_executor/cuda/cudart_stub.cc:29] Ignore above cudart dlerror if you do not have a GPU set up on your machine.\n"
     ]
    }
   ],
   "source": [
    "import numpy as np\n",
    "import pandas as pd\n",
    "\n",
    "from sklearn.decomposition import KernelPCA\n",
    "\n",
    "import tensorflow as tf\n",
    "from tensorflow import keras\n",
    "from keras.layers import Input, Dense, Lambda\n",
    "from keras.models import Model\n",
    "\n",
    "import matplotlib.pyplot as plt"
   ]
  },
  {
   "cell_type": "markdown",
   "metadata": {},
   "source": [
    "## Models Compared\n",
    "\n",
    "In this notebook, we'll compare the results of several dimension reduction methods on the publication dataset from Scopus. The 7 methods compared are:\n",
    "- Classical PCA\n",
    "- Probabilistic PCA\n",
    "- Poisson PCA\n",
    "- Kernel PCA with Gaussian kernel\n",
    "- 'Vanilla' autoencoder (1 or 2 hidden layers)\n",
    "- Variational autoencoder (1 or 2 hidden layers)\n",
    "\n",
    "We'll scale all count variables using $\\log(x+1)$. For the Poisson PCA model, we'll include the continuous variables as `covariates` and assign them parameters in the GLM that defines the mapping to the lower dimensional space. For all other models, continuous variables will be used as-is.\n",
    "\n",
    "The PCA models are all implemented in the `R` script `Comparison_of_PCA_models.r`. The results of that script are imported here.\n",
    "\n",
    "The variational autoencoder used here is a simple adaptation of the one implemented by Ahmed Fawzy Gad [here](https://blog.paperspace.com/how-to-build-variational-autoencoder-keras/)."
   ]
  },
  {
   "cell_type": "code",
   "execution_count": 2,
   "metadata": {},
   "outputs": [],
   "source": [
    "latent_dim = 2\n",
    "\n",
    "df = pd.read_csv('../pca_inputs_standardized.csv')\n",
    "data = df.values"
   ]
  },
  {
   "cell_type": "code",
   "execution_count": 3,
   "metadata": {},
   "outputs": [
    {
     "name": "stdout",
     "output_type": "stream",
     "text": [
      "<class 'pandas.core.frame.DataFrame'>\n",
      "RangeIndex: 2230 entries, 0 to 2229\n",
      "Data columns (total 16 columns):\n",
      " #   Column                       Non-Null Count  Dtype  \n",
      "---  ------                       --------------  -----  \n",
      " 0   log_articles                 2230 non-null   float64\n",
      " 1   log_publications             2230 non-null   float64\n",
      " 2   log_openaccess               2230 non-null   float64\n",
      " 3   log_coauthors                2230 non-null   float64\n",
      " 4   log_first_author             2230 non-null   float64\n",
      " 5   log_last_author              2230 non-null   float64\n",
      " 6   log_citation_count           2230 non-null   float64\n",
      " 7   log_cited_by_count           2230 non-null   float64\n",
      " 8   log_h_index                  2230 non-null   float64\n",
      " 9   log_growth_rate              2230 non-null   float64\n",
      " 10  log_mean_citations_per_year  2230 non-null   float64\n",
      " 11  log_mean_citations_per_doc   2230 non-null   float64\n",
      " 12  log_SJR_mean                 2230 non-null   float64\n",
      " 13  log_journal_h_index_mean     2230 non-null   float64\n",
      " 14  log_author_count_mean        2230 non-null   float64\n",
      " 15  log_author_position_mean     2230 non-null   float64\n",
      "dtypes: float64(16)\n",
      "memory usage: 278.9 KB\n"
     ]
    },
    {
     "data": {
      "text/html": [
       "<div>\n",
       "<style scoped>\n",
       "    .dataframe tbody tr th:only-of-type {\n",
       "        vertical-align: middle;\n",
       "    }\n",
       "\n",
       "    .dataframe tbody tr th {\n",
       "        vertical-align: top;\n",
       "    }\n",
       "\n",
       "    .dataframe thead th {\n",
       "        text-align: right;\n",
       "    }\n",
       "</style>\n",
       "<table border=\"1\" class=\"dataframe\">\n",
       "  <thead>\n",
       "    <tr style=\"text-align: right;\">\n",
       "      <th></th>\n",
       "      <th>log_articles</th>\n",
       "      <th>log_publications</th>\n",
       "      <th>log_openaccess</th>\n",
       "      <th>log_coauthors</th>\n",
       "      <th>log_first_author</th>\n",
       "      <th>log_last_author</th>\n",
       "      <th>log_citation_count</th>\n",
       "      <th>log_cited_by_count</th>\n",
       "      <th>log_h_index</th>\n",
       "      <th>log_growth_rate</th>\n",
       "      <th>log_mean_citations_per_year</th>\n",
       "      <th>log_mean_citations_per_doc</th>\n",
       "      <th>log_SJR_mean</th>\n",
       "      <th>log_journal_h_index_mean</th>\n",
       "      <th>log_author_count_mean</th>\n",
       "      <th>log_author_position_mean</th>\n",
       "    </tr>\n",
       "  </thead>\n",
       "  <tbody>\n",
       "    <tr>\n",
       "      <th>0</th>\n",
       "      <td>-0.142826</td>\n",
       "      <td>0.021193</td>\n",
       "      <td>-1.286565</td>\n",
       "      <td>-0.659529</td>\n",
       "      <td>0.158489</td>\n",
       "      <td>0.030294</td>\n",
       "      <td>-0.626348</td>\n",
       "      <td>-0.858632</td>\n",
       "      <td>-0.576502</td>\n",
       "      <td>-0.505248</td>\n",
       "      <td>-0.525093</td>\n",
       "      <td>-1.340227</td>\n",
       "      <td>-1.676475</td>\n",
       "      <td>-2.686418</td>\n",
       "      <td>-1.086891</td>\n",
       "      <td>-0.840776</td>\n",
       "    </tr>\n",
       "    <tr>\n",
       "      <th>1</th>\n",
       "      <td>0.927539</td>\n",
       "      <td>1.127389</td>\n",
       "      <td>0.417764</td>\n",
       "      <td>0.207375</td>\n",
       "      <td>0.158489</td>\n",
       "      <td>1.411569</td>\n",
       "      <td>0.062534</td>\n",
       "      <td>0.007301</td>\n",
       "      <td>0.172755</td>\n",
       "      <td>0.387302</td>\n",
       "      <td>0.089591</td>\n",
       "      <td>-1.357293</td>\n",
       "      <td>-1.503030</td>\n",
       "      <td>-1.572050</td>\n",
       "      <td>-0.893377</td>\n",
       "      <td>-0.130266</td>\n",
       "    </tr>\n",
       "    <tr>\n",
       "      <th>2</th>\n",
       "      <td>0.386083</td>\n",
       "      <td>0.314658</td>\n",
       "      <td>0.341645</td>\n",
       "      <td>-0.765611</td>\n",
       "      <td>0.492465</td>\n",
       "      <td>0.601828</td>\n",
       "      <td>0.327838</td>\n",
       "      <td>0.304983</td>\n",
       "      <td>0.445461</td>\n",
       "      <td>-0.471868</td>\n",
       "      <td>0.060726</td>\n",
       "      <td>0.221973</td>\n",
       "      <td>0.330687</td>\n",
       "      <td>0.776250</td>\n",
       "      <td>-1.041525</td>\n",
       "      <td>-0.513666</td>\n",
       "    </tr>\n",
       "    <tr>\n",
       "      <th>3</th>\n",
       "      <td>1.078945</td>\n",
       "      <td>1.142599</td>\n",
       "      <td>1.177148</td>\n",
       "      <td>1.025826</td>\n",
       "      <td>0.547271</td>\n",
       "      <td>1.041295</td>\n",
       "      <td>1.091883</td>\n",
       "      <td>1.086574</td>\n",
       "      <td>1.278663</td>\n",
       "      <td>1.284458</td>\n",
       "      <td>0.989428</td>\n",
       "      <td>0.748114</td>\n",
       "      <td>0.370037</td>\n",
       "      <td>0.275377</td>\n",
       "      <td>0.976168</td>\n",
       "      <td>1.568230</td>\n",
       "    </tr>\n",
       "    <tr>\n",
       "      <th>4</th>\n",
       "      <td>-0.735052</td>\n",
       "      <td>-0.910231</td>\n",
       "      <td>-0.706585</td>\n",
       "      <td>-0.314863</td>\n",
       "      <td>-1.559550</td>\n",
       "      <td>-1.156486</td>\n",
       "      <td>-1.262919</td>\n",
       "      <td>-1.231163</td>\n",
       "      <td>-1.385635</td>\n",
       "      <td>-0.771071</td>\n",
       "      <td>-1.349822</td>\n",
       "      <td>-1.421549</td>\n",
       "      <td>0.315938</td>\n",
       "      <td>-0.314405</td>\n",
       "      <td>0.622270</td>\n",
       "      <td>-0.117670</td>\n",
       "    </tr>\n",
       "  </tbody>\n",
       "</table>\n",
       "</div>"
      ],
      "text/plain": [
       "   log_articles  log_publications  log_openaccess  log_coauthors  \\\n",
       "0     -0.142826          0.021193       -1.286565      -0.659529   \n",
       "1      0.927539          1.127389        0.417764       0.207375   \n",
       "2      0.386083          0.314658        0.341645      -0.765611   \n",
       "3      1.078945          1.142599        1.177148       1.025826   \n",
       "4     -0.735052         -0.910231       -0.706585      -0.314863   \n",
       "\n",
       "   log_first_author  log_last_author  log_citation_count  log_cited_by_count  \\\n",
       "0          0.158489         0.030294           -0.626348           -0.858632   \n",
       "1          0.158489         1.411569            0.062534            0.007301   \n",
       "2          0.492465         0.601828            0.327838            0.304983   \n",
       "3          0.547271         1.041295            1.091883            1.086574   \n",
       "4         -1.559550        -1.156486           -1.262919           -1.231163   \n",
       "\n",
       "   log_h_index  log_growth_rate  log_mean_citations_per_year  \\\n",
       "0    -0.576502        -0.505248                    -0.525093   \n",
       "1     0.172755         0.387302                     0.089591   \n",
       "2     0.445461        -0.471868                     0.060726   \n",
       "3     1.278663         1.284458                     0.989428   \n",
       "4    -1.385635        -0.771071                    -1.349822   \n",
       "\n",
       "   log_mean_citations_per_doc  log_SJR_mean  log_journal_h_index_mean  \\\n",
       "0                   -1.340227     -1.676475                 -2.686418   \n",
       "1                   -1.357293     -1.503030                 -1.572050   \n",
       "2                    0.221973      0.330687                  0.776250   \n",
       "3                    0.748114      0.370037                  0.275377   \n",
       "4                   -1.421549      0.315938                 -0.314405   \n",
       "\n",
       "   log_author_count_mean  log_author_position_mean  \n",
       "0              -1.086891                 -0.840776  \n",
       "1              -0.893377                 -0.130266  \n",
       "2              -1.041525                 -0.513666  \n",
       "3               0.976168                  1.568230  \n",
       "4               0.622270                 -0.117670  "
      ]
     },
     "execution_count": 3,
     "metadata": {},
     "output_type": "execute_result"
    }
   ],
   "source": [
    "df.info()\n",
    "df.head()"
   ]
  },
  {
   "cell_type": "markdown",
   "metadata": {},
   "source": [
    "# Kernel PCA Model"
   ]
  },
  {
   "cell_type": "code",
   "execution_count": 4,
   "metadata": {},
   "outputs": [],
   "source": [
    "kpca = KernelPCA(n_components=latent_dim, kernel='rbf')\n",
    "kpca_data = kpca.fit_transform(df)"
   ]
  },
  {
   "cell_type": "code",
   "execution_count": 5,
   "metadata": {},
   "outputs": [
    {
     "data": {
      "image/png": "[encoded data removed]",
      "text/plain": [
       "<Figure size 432x288 with 1 Axes>"
      ]
     },
     "metadata": {
      "needs_background": "light"
     },
     "output_type": "display_data"
    }
   ],
   "source": [
    "plt.scatter(kpca_data[:, 0], kpca_data[:, 1]);"
   ]
  },
  {
   "cell_type": "code",
   "execution_count": 10,
   "metadata": {},
   "outputs": [],
   "source": [
    "df_kpca = pd.DataFrame(kpca_data, columns=['x', 'y'])\n",
    "# df_kpca.to_excel('../results/kpca_mapped_points.xlsx', index=False)"
   ]
  },
  {
   "cell_type": "code",
   "execution_count": 15,
   "metadata": {},
   "outputs": [
    {
     "data": {
      "text/html": [
       "<div>\n",
       "<style scoped>\n",
       "    .dataframe tbody tr th:only-of-type {\n",
       "        vertical-align: middle;\n",
       "    }\n",
       "\n",
       "    .dataframe tbody tr th {\n",
       "        vertical-align: top;\n",
       "    }\n",
       "\n",
       "    .dataframe thead th {\n",
       "        text-align: right;\n",
       "    }\n",
       "</style>\n",
       "<table border=\"1\" class=\"dataframe\">\n",
       "  <thead>\n",
       "    <tr style=\"text-align: right;\">\n",
       "      <th></th>\n",
       "      <th>PCA_C_PC1</th>\n",
       "      <th>PCA_PC1</th>\n",
       "      <th>PLNPCA_PC1</th>\n",
       "      <th>AE1_dim1</th>\n",
       "      <th>AE2_dim1</th>\n",
       "      <th>KPCA_PC1</th>\n",
       "    </tr>\n",
       "  </thead>\n",
       "  <tbody>\n",
       "    <tr>\n",
       "      <th>0</th>\n",
       "      <td>-2.070054</td>\n",
       "      <td>-2.560709</td>\n",
       "      <td>-1.734228</td>\n",
       "      <td>1.454233</td>\n",
       "      <td>-0.134096</td>\n",
       "      <td>0.424159</td>\n",
       "    </tr>\n",
       "    <tr>\n",
       "      <th>1</th>\n",
       "      <td>1.738389</td>\n",
       "      <td>1.496534</td>\n",
       "      <td>2.188704</td>\n",
       "      <td>3.139133</td>\n",
       "      <td>0.331870</td>\n",
       "      <td>-0.048366</td>\n",
       "    </tr>\n",
       "    <tr>\n",
       "      <th>2</th>\n",
       "      <td>1.080762</td>\n",
       "      <td>0.802431</td>\n",
       "      <td>1.103613</td>\n",
       "      <td>1.381669</td>\n",
       "      <td>0.855882</td>\n",
       "      <td>-0.122175</td>\n",
       "    </tr>\n",
       "    <tr>\n",
       "      <th>3</th>\n",
       "      <td>4.312466</td>\n",
       "      <td>4.934973</td>\n",
       "      <td>4.385583</td>\n",
       "      <td>0.601613</td>\n",
       "      <td>4.787392</td>\n",
       "      <td>-0.545785</td>\n",
       "    </tr>\n",
       "    <tr>\n",
       "      <th>4</th>\n",
       "      <td>-4.241595</td>\n",
       "      <td>-4.821242</td>\n",
       "      <td>-4.330958</td>\n",
       "      <td>0.339616</td>\n",
       "      <td>0.370561</td>\n",
       "      <td>0.570904</td>\n",
       "    </tr>\n",
       "  </tbody>\n",
       "</table>\n",
       "</div>"
      ],
      "text/plain": [
       "   PCA_C_PC1   PCA_PC1  PLNPCA_PC1  AE1_dim1  AE2_dim1  KPCA_PC1\n",
       "0  -2.070054 -2.560709   -1.734228  1.454233 -0.134096  0.424159\n",
       "1   1.738389  1.496534    2.188704  3.139133  0.331870 -0.048366\n",
       "2   1.080762  0.802431    1.103613  1.381669  0.855882 -0.122175\n",
       "3   4.312466  4.934973    4.385583  0.601613  4.787392 -0.545785\n",
       "4  -4.241595 -4.821242   -4.330958  0.339616  0.370561  0.570904"
      ]
     },
     "execution_count": 15,
     "metadata": {},
     "output_type": "execute_result"
    }
   ],
   "source": [
    "scores = pd.read_csv('../results/pc1_scores_all_models.csv')\n",
    "scores['KPCA_PC1'] = df_kpca['x']\n",
    "scores.head()"
   ]
  },
  {
   "cell_type": "code",
   "execution_count": 16,
   "metadata": {},
   "outputs": [
    {
     "data": {
      "text/html": [
       "<div>\n",
       "<style scoped>\n",
       "    .dataframe tbody tr th:only-of-type {\n",
       "        vertical-align: middle;\n",
       "    }\n",
       "\n",
       "    .dataframe tbody tr th {\n",
       "        vertical-align: top;\n",
       "    }\n",
       "\n",
       "    .dataframe thead th {\n",
       "        text-align: right;\n",
       "    }\n",
       "</style>\n",
       "<table border=\"1\" class=\"dataframe\">\n",
       "  <thead>\n",
       "    <tr style=\"text-align: right;\">\n",
       "      <th></th>\n",
       "      <th>PCA_C_PC1</th>\n",
       "      <th>PCA_PC1</th>\n",
       "      <th>PLNPCA_PC1</th>\n",
       "      <th>AE1_dim1</th>\n",
       "      <th>AE2_dim1</th>\n",
       "      <th>KPCA_PC1</th>\n",
       "    </tr>\n",
       "  </thead>\n",
       "  <tbody>\n",
       "    <tr>\n",
       "      <th>PCA_C_PC1</th>\n",
       "      <td>1.000000</td>\n",
       "      <td>0.996077</td>\n",
       "      <td>0.998430</td>\n",
       "      <td>0.303121</td>\n",
       "      <td>0.633258</td>\n",
       "      <td>-0.826204</td>\n",
       "    </tr>\n",
       "    <tr>\n",
       "      <th>PCA_PC1</th>\n",
       "      <td>0.996077</td>\n",
       "      <td>1.000000</td>\n",
       "      <td>0.994160</td>\n",
       "      <td>0.257876</td>\n",
       "      <td>0.668691</td>\n",
       "      <td>-0.828470</td>\n",
       "    </tr>\n",
       "    <tr>\n",
       "      <th>PLNPCA_PC1</th>\n",
       "      <td>0.998430</td>\n",
       "      <td>0.994160</td>\n",
       "      <td>1.000000</td>\n",
       "      <td>0.299425</td>\n",
       "      <td>0.617944</td>\n",
       "      <td>-0.809516</td>\n",
       "    </tr>\n",
       "    <tr>\n",
       "      <th>AE1_dim1</th>\n",
       "      <td>0.303121</td>\n",
       "      <td>0.257876</td>\n",
       "      <td>0.299425</td>\n",
       "      <td>1.000000</td>\n",
       "      <td>-0.242713</td>\n",
       "      <td>-0.273107</td>\n",
       "    </tr>\n",
       "    <tr>\n",
       "      <th>AE2_dim1</th>\n",
       "      <td>0.633258</td>\n",
       "      <td>0.668691</td>\n",
       "      <td>0.617944</td>\n",
       "      <td>-0.242713</td>\n",
       "      <td>1.000000</td>\n",
       "      <td>-0.614468</td>\n",
       "    </tr>\n",
       "    <tr>\n",
       "      <th>KPCA_PC1</th>\n",
       "      <td>-0.826204</td>\n",
       "      <td>-0.828470</td>\n",
       "      <td>-0.809516</td>\n",
       "      <td>-0.273107</td>\n",
       "      <td>-0.614468</td>\n",
       "      <td>1.000000</td>\n",
       "    </tr>\n",
       "  </tbody>\n",
       "</table>\n",
       "</div>"
      ],
      "text/plain": [
       "            PCA_C_PC1   PCA_PC1  PLNPCA_PC1  AE1_dim1  AE2_dim1  KPCA_PC1\n",
       "PCA_C_PC1    1.000000  0.996077    0.998430  0.303121  0.633258 -0.826204\n",
       "PCA_PC1      0.996077  1.000000    0.994160  0.257876  0.668691 -0.828470\n",
       "PLNPCA_PC1   0.998430  0.994160    1.000000  0.299425  0.617944 -0.809516\n",
       "AE1_dim1     0.303121  0.257876    0.299425  1.000000 -0.242713 -0.273107\n",
       "AE2_dim1     0.633258  0.668691    0.617944 -0.242713  1.000000 -0.614468\n",
       "KPCA_PC1    -0.826204 -0.828470   -0.809516 -0.273107 -0.614468  1.000000"
      ]
     },
     "execution_count": 16,
     "metadata": {},
     "output_type": "execute_result"
    }
   ],
   "source": [
    "scores.corr()"
   ]
  },
  {
   "cell_type": "markdown",
   "metadata": {},
   "source": [
    "## Autoencoder Models\n",
    "\n",
    "First, we construct the 'vanilla' autoencoders with 1 and 2 hidden layers, respectively. We'll use a simple stepped reduction of dimensions in our hidden layers. For example, in the encoder model with one hidden layer, we'll reduce to 5 dimensions in the hidden layer and then reduce to 2 dimensions in the output layer (with the reverse being true for the decoder model)."
   ]
  },
  {
   "cell_type": "code",
   "execution_count": 9,
   "metadata": {},
   "outputs": [
    {
     "name": "stdout",
     "output_type": "stream",
     "text": [
      "Model: \"autoencoder1\"\n",
      "_________________________________________________________________\n",
      " Layer (type)                Output Shape              Param #   \n",
      "=================================================================\n",
      " enc1_input (InputLayer)     [(None, 16)]              0         \n",
      "                                                                 \n",
      " enc1_hidden_layer (Dense)   (None, 8)                 136       \n",
      "                                                                 \n",
      " enc1_output_layer (Dense)   (None, 2)                 18        \n",
      "                                                                 \n",
      " dec1_hidden_layer (Dense)   (None, 8)                 24        \n",
      "                                                                 \n",
      " decoder1_output (Dense)     (None, 16)                144       \n",
      "                                                                 \n",
      "=================================================================\n",
      "Total params: 322\n",
      "Trainable params: 322\n",
      "Non-trainable params: 0\n",
      "_________________________________________________________________\n"
     ]
    }
   ],
   "source": [
    "# autoencoder with 1 hidden layer\n",
    "enc1_input = Input(shape=(16,), name='enc1_input')\n",
    "enc1_hidden_layer = Dense(units=8, activation='relu', use_bias='True', bias_initializer='zeros', name='enc1_hidden_layer')(enc1_input)\n",
    "encoded1 = Dense(units=latent_dim, name='enc1_output_layer')(enc1_hidden_layer)\n",
    "\n",
    "enc1 = Model(enc1_input, encoded1, name='Encoder-1_hidden_layer')\n",
    "\n",
    "dec1_hidden_layer = Dense(units=8, activation='relu', use_bias=True, bias_initializer='zeros', name='dec1_hidden_layer')(encoded1)\n",
    "decoded1 = Dense(units=16, activation='relu', use_bias=True, bias_initializer='zeros', name='decoder1_output')(dec1_hidden_layer)\n",
    "\n",
    "autoencoder1 = Model(enc1_input, decoded1, name='autoencoder1')\n",
    "\n",
    "encoder1 = keras.Model(enc1_input, encoded1, name='encoder1')\n",
    "\n",
    "autoencoder1.summary()"
   ]
  },
  {
   "cell_type": "code",
   "execution_count": 10,
   "metadata": {},
   "outputs": [
    {
     "data": {
      "text/plain": [
       "<keras.callbacks.History at 0x7fb4e00f4fd0>"
      ]
     },
     "execution_count": 10,
     "metadata": {},
     "output_type": "execute_result"
    }
   ],
   "source": [
    "autoencoder1.compile(optimizer='adam', loss='binary_crossentropy')\n",
    "autoencoder1.fit(data, data, batch_size=128, epochs=250, verbose=False)"
   ]
  },
  {
   "cell_type": "code",
   "execution_count": 11,
   "metadata": {},
   "outputs": [
    {
     "name": "stdout",
     "output_type": "stream",
     "text": [
      "70/70 [==============================] - 0s 423us/step\n"
     ]
    },
    {
     "data": {
      "image/png": "[encoded data removed]",
      "text/plain": [
       "<Figure size 432x288 with 1 Axes>"
      ]
     },
     "metadata": {
      "needs_background": "light"
     },
     "output_type": "display_data"
    }
   ],
   "source": [
    "y1 = encoder1.predict(data)\n",
    "plt.scatter(y1[:,0], y1[:,1]);"
   ]
  },
  {
   "cell_type": "code",
   "execution_count": 12,
   "metadata": {},
   "outputs": [
    {
     "data": {
      "text/html": [
       "<div>\n",
       "<style scoped>\n",
       "    .dataframe tbody tr th:only-of-type {\n",
       "        vertical-align: middle;\n",
       "    }\n",
       "\n",
       "    .dataframe tbody tr th {\n",
       "        vertical-align: top;\n",
       "    }\n",
       "\n",
       "    .dataframe thead th {\n",
       "        text-align: right;\n",
       "    }\n",
       "</style>\n",
       "<table border=\"1\" class=\"dataframe\">\n",
       "  <thead>\n",
       "    <tr style=\"text-align: right;\">\n",
       "      <th></th>\n",
       "      <th>x</th>\n",
       "      <th>y</th>\n",
       "    </tr>\n",
       "  </thead>\n",
       "  <tbody>\n",
       "    <tr>\n",
       "      <th>0</th>\n",
       "      <td>1.454233</td>\n",
       "      <td>0.011737</td>\n",
       "    </tr>\n",
       "    <tr>\n",
       "      <th>1</th>\n",
       "      <td>3.139133</td>\n",
       "      <td>-2.190091</td>\n",
       "    </tr>\n",
       "    <tr>\n",
       "      <th>2</th>\n",
       "      <td>1.381669</td>\n",
       "      <td>-0.722320</td>\n",
       "    </tr>\n",
       "    <tr>\n",
       "      <th>3</th>\n",
       "      <td>0.601613</td>\n",
       "      <td>-3.549023</td>\n",
       "    </tr>\n",
       "    <tr>\n",
       "      <th>4</th>\n",
       "      <td>0.339616</td>\n",
       "      <td>0.590188</td>\n",
       "    </tr>\n",
       "  </tbody>\n",
       "</table>\n",
       "</div>"
      ],
      "text/plain": [
       "          x         y\n",
       "0  1.454233  0.011737\n",
       "1  3.139133 -2.190091\n",
       "2  1.381669 -0.722320\n",
       "3  0.601613 -3.549023\n",
       "4  0.339616  0.590188"
      ]
     },
     "execution_count": 12,
     "metadata": {},
     "output_type": "execute_result"
    }
   ],
   "source": [
    "to_save = pd.DataFrame({'x': y1[:, 0], 'y': y1[:, 1]})\n",
    "to_save.head()"
   ]
  },
  {
   "cell_type": "code",
   "execution_count": 13,
   "metadata": {},
   "outputs": [],
   "source": [
    "to_save.to_csv('../results/ae_mapped_points.csv', index=False)"
   ]
  },
  {
   "cell_type": "code",
   "execution_count": 14,
   "metadata": {},
   "outputs": [
    {
     "name": "stdout",
     "output_type": "stream",
     "text": [
      "Model: \"autoencoder2\"\n",
      "_________________________________________________________________\n",
      " Layer (type)                Output Shape              Param #   \n",
      "=================================================================\n",
      " enc2_input (InputLayer)     [(None, 16)]              0         \n",
      "                                                                 \n",
      " enc2_hidden_layer1 (Dense)  (None, 16)                272       \n",
      "                                                                 \n",
      " enc2_hidden_layer2 (Dense)  (None, 8)                 136       \n",
      "                                                                 \n",
      " enc2_output_layer (Dense)   (None, 2)                 18        \n",
      "                                                                 \n",
      " dec2_hidden_layer1 (Dense)  (None, 8)                 24        \n",
      "                                                                 \n",
      " dec2_hidden_layer2 (Dense)  (None, 16)                144       \n",
      "                                                                 \n",
      " decoder2_output (Dense)     (None, 16)                272       \n",
      "                                                                 \n",
      "=================================================================\n",
      "Total params: 866\n",
      "Trainable params: 866\n",
      "Non-trainable params: 0\n",
      "_________________________________________________________________\n"
     ]
    }
   ],
   "source": [
    "# autoencoder with 2 hidden layers\n",
    "enc2_input = Input(shape=(16,), name='enc2_input')\n",
    "enc2_hidden_layer1 = Dense(units=16, activation='relu', use_bias='True', bias_initializer='zeros', name='enc2_hidden_layer1')(enc2_input)\n",
    "enc2_hidden_layer2 = Dense(units=8, activation='relu', use_bias='True', bias_initializer='zeros', name='enc2_hidden_layer2')(enc2_hidden_layer1)\n",
    "encoded2 = Dense(units=latent_dim, name='enc2_output_layer')(enc2_hidden_layer2)\n",
    "\n",
    "enc2 = Model(enc2_input, encoded2, name='Encoder-2_hidden_layer')\n",
    "\n",
    "dec2_hidden_layer1 = Dense(units=8, activation='relu', use_bias=True, bias_initializer='zeros', name='dec2_hidden_layer1')(encoded2)\n",
    "dec2_hidden_layer2 = Dense(units=16, activation='relu', use_bias=True, bias_initializer='zeros', name='dec2_hidden_layer2')(dec2_hidden_layer1)\n",
    "decoded2 = Dense(units=16, activation='relu', use_bias=True, bias_initializer='zeros', name='decoder2_output')(dec2_hidden_layer2)\n",
    "\n",
    "autoencoder2 = Model(enc2_input, decoded2, name='autoencoder2')\n",
    "\n",
    "encoder2 = keras.Model(enc2_input, encoded2, name='encoder2')\n",
    "\n",
    "autoencoder2.summary()"
   ]
  },
  {
   "cell_type": "code",
   "execution_count": 15,
   "metadata": {},
   "outputs": [
    {
     "data": {
      "text/plain": [
       "<keras.callbacks.History at 0x7fb4b84d2730>"
      ]
     },
     "execution_count": 15,
     "metadata": {},
     "output_type": "execute_result"
    }
   ],
   "source": [
    "autoencoder2.compile(optimizer='adam', loss='binary_crossentropy')\n",
    "autoencoder2.fit(data, data, batch_size=128, epochs=250, verbose=False)"
   ]
  },
  {
   "cell_type": "code",
   "execution_count": 16,
   "metadata": {},
   "outputs": [
    {
     "name": "stdout",
     "output_type": "stream",
     "text": [
      "70/70 [==============================] - 0s 411us/step\n"
     ]
    },
    {
     "data": {
      "image/png": "[encoded data removed]",
      "text/plain": [
       "<Figure size 432x288 with 1 Axes>"
      ]
     },
     "metadata": {
      "needs_background": "light"
     },
     "output_type": "display_data"
    }
   ],
   "source": [
    "y2 = encoder2.predict(data)\n",
    "plt.scatter(y2[:,0], y2[:,1]);"
   ]
  },
  {
   "cell_type": "code",
   "execution_count": 32,
   "metadata": {},
   "outputs": [],
   "source": [
    "to_save2 = pd.DataFrame({'x': y2[:, 0], 'y': y2[:, 1]})\n",
    "to_save2.to_csv('../results/ae2_mapped_points.csv', index=False)"
   ]
  },
  {
   "cell_type": "markdown",
   "metadata": {},
   "source": [
    "## Variational Autoencoder Models"
   ]
  },
  {
   "cell_type": "code",
   "execution_count": 51,
   "metadata": {},
   "outputs": [
    {
     "name": "stdout",
     "output_type": "stream",
     "text": [
      "Model: \"encoder_model\"\n",
      "__________________________________________________________________________________________________\n",
      " Layer (type)                   Output Shape         Param #     Connected to                     \n",
      "==================================================================================================\n",
      " encoder_input (InputLayer)     [(None, 17)]         0           []                               \n",
      "                                                                                                  \n",
      " encoder_hidden_layer1 (Dense)  (None, 17)           306         ['encoder_input[0][0]']          \n",
      "                                                                                                  \n",
      " encoder_hidden_layer2 (Dense)  (None, 5)            90          ['encoder_hidden_layer1[0][0]']  \n",
      "                                                                                                  \n",
      " encoder_mu (Dense)             (None, 2)            12          ['encoder_hidden_layer2[0][0]']  \n",
      "                                                                                                  \n",
      " encoder_log_variance (Dense)   (None, 2)            12          ['encoder_hidden_layer2[0][0]']  \n",
      "                                                                                                  \n",
      " encoder_output (Lambda)        (None, 2)            0           ['encoder_mu[0][0]',             \n",
      "                                                                  'encoder_log_variance[0][0]']   \n",
      "                                                                                                  \n",
      "==================================================================================================\n",
      "Total params: 420\n",
      "Trainable params: 420\n",
      "Non-trainable params: 0\n",
      "__________________________________________________________________________________________________\n"
     ]
    }
   ],
   "source": [
    "# Encoder with 1 hidden layer\n",
    "encoder_input = Input(shape=(17,), name=\"encoder_input\")\n",
    "\n",
    "encoder_hidden_layer1 = Dense(units=17, activation='relu', use_bias=True, bias_initializer='zeros', name='encoder_hidden_layer1')(encoder_input)\n",
    "encoder_hidden_layer2 = Dense(units=5, activation='relu', use_bias=True, bias_initializer='zeros', name='encoder_hidden_layer2')(encoder_hidden_layer1)\n",
    "encoder_mu = Dense(units=latent_dim, activation='relu', name='encoder_mu')(encoder_hidden_layer2)\n",
    "encoder_log_variance = Dense(units=latent_dim, name='encoder_log_variance')(encoder_hidden_layer2)\n",
    "\n",
    "encoder_mu_log_var_model = Model(encoder_input, (encoder_mu, encoder_log_variance), name=\"encoder_mu_log_var_model\")\n",
    "\n",
    "def sampling(mu_log_variance):\n",
    "    mu, log_variance = mu_log_variance\n",
    "    epsilon = tf.keras.backend.random_normal(shape=tf.keras.backend.shape(mu), mean=0.0, stddev=1.0)\n",
    "    random_sample = mu + tf.keras.backend.exp(log_variance/2) * epsilon\n",
    "    # tf.print(random_sample[0])\n",
    "    return random_sample\n",
    "\n",
    "encoder_output = Lambda(sampling, name=\"encoder_output\")([encoder_mu, encoder_log_variance])\n",
    "\n",
    "encoder = Model(encoder_input, encoder_output, name=\"encoder_model\")\n",
    "encoder.summary()"
   ]
  },
  {
   "cell_type": "code",
   "execution_count": 52,
   "metadata": {},
   "outputs": [
    {
     "name": "stdout",
     "output_type": "stream",
     "text": [
      "Model: \"decoder_model\"\n",
      "_________________________________________________________________\n",
      " Layer (type)                Output Shape              Param #   \n",
      "=================================================================\n",
      " decoder_input (InputLayer)  [(None, 2)]               0         \n",
      "                                                                 \n",
      " decoder_hidden_layer1 (Dens  (None, 5)                15        \n",
      " e)                                                              \n",
      "                                                                 \n",
      " decoder_hidden_layer2 (Dens  (None, 4500)             27000     \n",
      " e)                                                              \n",
      "                                                                 \n",
      " decoder_output (Dense)      (None, 17)                76517     \n",
      "                                                                 \n",
      "=================================================================\n",
      "Total params: 103,532\n",
      "Trainable params: 103,532\n",
      "Non-trainable params: 0\n",
      "_________________________________________________________________\n"
     ]
    }
   ],
   "source": [
    "# Decoder with 1 hidden layer\n",
    "decoder_input = Input(shape=latent_dim, name=\"decoder_input\")\n",
    "\n",
    "decoder_hidden_layer1 = Dense(units=5, activation='relu', name='decoder_hidden_layer1')(decoder_input)\n",
    "decoder_hidden_layer2 = Dense(units=4500, activation='relu', name='decoder_hidden_layer2')(decoder_hidden_layer1)\n",
    "decoder_output = Dense(units=17, activation='relu', name='decoder_output')(decoder_hidden_layer2)\n",
    "\n",
    "decoder = Model(decoder_input, decoder_output, name=\"decoder_model\")\n",
    "decoder.summary()"
   ]
  },
  {
   "cell_type": "code",
   "execution_count": 53,
   "metadata": {},
   "outputs": [
    {
     "name": "stdout",
     "output_type": "stream",
     "text": [
      "Model: \"VAE\"\n",
      "_________________________________________________________________\n",
      " Layer (type)                Output Shape              Param #   \n",
      "=================================================================\n",
      " VAE_input (InputLayer)      [(None, 17)]              0         \n",
      "                                                                 \n",
      " encoder_model (Functional)  (None, 2)                 420       \n",
      "                                                                 \n",
      " decoder_model (Functional)  (None, 17)                103532    \n",
      "                                                                 \n",
      "=================================================================\n",
      "Total params: 103,952\n",
      "Trainable params: 103,952\n",
      "Non-trainable params: 0\n",
      "_________________________________________________________________\n"
     ]
    }
   ],
   "source": [
    "vae_input = Input(shape=(17,), name=\"VAE_input\")\n",
    "vae_encoder_output = encoder(vae_input)\n",
    "vae_decoder_output = decoder(vae_encoder_output)\n",
    "vae = Model(vae_input, vae_decoder_output, name=\"VAE\")\n",
    "vae.summary()"
   ]
  },
  {
   "cell_type": "code",
   "execution_count": 54,
   "metadata": {},
   "outputs": [],
   "source": [
    "def loss_func(encoder_mu, encoder_log_variance):\n",
    "    def vae_reconstruction_loss(y_true, y_predict):\n",
    "        reconstruction_loss_factor = 0.0005\n",
    "        # tf.print(y_predict)\n",
    "        reconstruction_loss = tf.keras.backend.mean(tf.keras.backend.square(y_true-y_predict))\n",
    "        return reconstruction_loss_factor * reconstruction_loss\n",
    "\n",
    "    def vae_kl_loss(encoder_mu, encoder_log_variance):\n",
    "        kl_loss = -0.5 * tf.keras.backend.sum(1.0 + encoder_log_variance - tf.keras.backend.square(encoder_mu) - tf.keras.backend.exp(encoder_log_variance))\n",
    "        return kl_loss\n",
    "\n",
    "    def vae_kl_loss_metric(y_true, y_predict):\n",
    "        kl_loss = -0.5 * tf.keras.backend.sum(1.0 + encoder_log_variance - tf.keras.backend.square(encoder_mu) - tf.keras.backend.exp(encoder_log_variance))\n",
    "        return kl_loss\n",
    "\n",
    "    def vae_loss(y_true, y_predict):\n",
    "        reconstruction_loss = vae_reconstruction_loss(y_true, y_predict)\n",
    "        kl_loss = vae_kl_loss(y_true, y_predict)\n",
    "\n",
    "        loss = reconstruction_loss + kl_loss\n",
    "        return loss\n",
    "\n",
    "    return vae_loss"
   ]
  },
  {
   "cell_type": "code",
   "execution_count": 55,
   "metadata": {},
   "outputs": [],
   "source": [
    "vae.compile(optimizer=tf.keras.optimizers.Adam(), loss=loss_func(encoder_mu, encoder_log_variance))"
   ]
  },
  {
   "cell_type": "code",
   "execution_count": 56,
   "metadata": {},
   "outputs": [
    {
     "name": "stdout",
     "output_type": "stream",
     "text": [
      "Epoch 1/50\n",
      "18/18 [==============================] - 0s 2ms/step - loss: nan\n",
      "Epoch 2/50\n",
      "18/18 [==============================] - 0s 3ms/step - loss: nan\n",
      "Epoch 3/50\n",
      "18/18 [==============================] - 0s 3ms/step - loss: nan\n",
      "Epoch 4/50\n",
      "18/18 [==============================] - 0s 3ms/step - loss: nan\n",
      "Epoch 5/50\n",
      "18/18 [==============================] - 0s 2ms/step - loss: nan\n",
      "Epoch 6/50\n",
      "18/18 [==============================] - 0s 3ms/step - loss: nan\n",
      "Epoch 7/50\n",
      "18/18 [==============================] - 0s 3ms/step - loss: nan\n",
      "Epoch 8/50\n",
      "18/18 [==============================] - 0s 2ms/step - loss: nan\n",
      "Epoch 9/50\n",
      "18/18 [==============================] - 0s 2ms/step - loss: nan\n",
      "Epoch 10/50\n",
      "18/18 [==============================] - 0s 3ms/step - loss: nan\n",
      "Epoch 11/50\n",
      "18/18 [==============================] - 0s 4ms/step - loss: nan\n",
      "Epoch 12/50\n",
      "18/18 [==============================] - 0s 3ms/step - loss: nan\n",
      "Epoch 13/50\n",
      "18/18 [==============================] - 0s 3ms/step - loss: nan\n",
      "Epoch 14/50\n",
      "18/18 [==============================] - 0s 3ms/step - loss: nan\n",
      "Epoch 15/50\n",
      "18/18 [==============================] - 0s 2ms/step - loss: nan\n",
      "Epoch 16/50\n",
      "18/18 [==============================] - 0s 3ms/step - loss: nan\n",
      "Epoch 17/50\n",
      "18/18 [==============================] - 0s 4ms/step - loss: nan\n",
      "Epoch 18/50\n",
      "18/18 [==============================] - 0s 4ms/step - loss: nan\n",
      "Epoch 19/50\n",
      "18/18 [==============================] - 0s 3ms/step - loss: nan\n",
      "Epoch 20/50\n",
      "18/18 [==============================] - 0s 3ms/step - loss: nan\n",
      "Epoch 21/50\n",
      "18/18 [==============================] - 0s 3ms/step - loss: nan\n",
      "Epoch 22/50\n",
      "18/18 [==============================] - 0s 3ms/step - loss: nan\n",
      "Epoch 23/50\n",
      "18/18 [==============================] - 0s 3ms/step - loss: nan\n",
      "Epoch 24/50\n",
      "18/18 [==============================] - 0s 3ms/step - loss: nan\n",
      "Epoch 25/50\n",
      "18/18 [==============================] - 0s 3ms/step - loss: nan\n",
      "Epoch 26/50\n",
      "18/18 [==============================] - 0s 3ms/step - loss: nan\n",
      "Epoch 27/50\n",
      "18/18 [==============================] - 0s 3ms/step - loss: nan\n",
      "Epoch 28/50\n",
      "18/18 [==============================] - 0s 3ms/step - loss: nan\n",
      "Epoch 29/50\n",
      "18/18 [==============================] - 0s 2ms/step - loss: nan\n",
      "Epoch 30/50\n",
      "18/18 [==============================] - 0s 3ms/step - loss: nan\n",
      "Epoch 31/50\n",
      "18/18 [==============================] - 0s 3ms/step - loss: nan\n",
      "Epoch 32/50\n",
      "18/18 [==============================] - 0s 3ms/step - loss: nan\n",
      "Epoch 33/50\n",
      "18/18 [==============================] - 0s 3ms/step - loss: nan\n",
      "Epoch 34/50\n",
      "18/18 [==============================] - 0s 3ms/step - loss: nan\n",
      "Epoch 35/50\n",
      "18/18 [==============================] - 0s 2ms/step - loss: nan\n",
      "Epoch 36/50\n",
      "18/18 [==============================] - 0s 3ms/step - loss: nan\n",
      "Epoch 37/50\n",
      "18/18 [==============================] - 0s 3ms/step - loss: nan\n",
      "Epoch 38/50\n",
      "18/18 [==============================] - 0s 3ms/step - loss: nan\n",
      "Epoch 39/50\n",
      "18/18 [==============================] - 0s 2ms/step - loss: nan\n",
      "Epoch 40/50\n",
      "18/18 [==============================] - 0s 2ms/step - loss: nan\n",
      "Epoch 41/50\n",
      "18/18 [==============================] - 0s 2ms/step - loss: nan\n",
      "Epoch 42/50\n",
      "18/18 [==============================] - 0s 2ms/step - loss: nan\n",
      "Epoch 43/50\n",
      "18/18 [==============================] - 0s 3ms/step - loss: nan\n",
      "Epoch 44/50\n",
      "18/18 [==============================] - 0s 2ms/step - loss: nan\n",
      "Epoch 45/50\n",
      "18/18 [==============================] - 0s 2ms/step - loss: nan\n",
      "Epoch 46/50\n",
      "18/18 [==============================] - 0s 2ms/step - loss: nan\n",
      "Epoch 47/50\n",
      "18/18 [==============================] - 0s 2ms/step - loss: nan\n",
      "Epoch 48/50\n",
      "18/18 [==============================] - 0s 3ms/step - loss: nan\n",
      "Epoch 49/50\n",
      "18/18 [==============================] - 0s 2ms/step - loss: nan\n",
      "Epoch 50/50\n",
      "18/18 [==============================] - 0s 2ms/step - loss: nan\n"
     ]
    },
    {
     "data": {
      "text/plain": [
       "<keras.callbacks.History at 0x7f709c7e9a30>"
      ]
     },
     "execution_count": 56,
     "metadata": {},
     "output_type": "execute_result"
    }
   ],
   "source": [
    "vae.fit(data, data, epochs=50, batch_size=128, shuffle=True)"
   ]
  },
  {
   "cell_type": "code",
   "execution_count": 57,
   "metadata": {},
   "outputs": [
    {
     "name": "stdout",
     "output_type": "stream",
     "text": [
      "70/70 [==============================] - 0s 443us/step\n"
     ]
    },
    {
     "data": {
      "image/png": "[encoded data removed]",
      "text/plain": [
       "<Figure size 432x288 with 1 Axes>"
      ]
     },
     "metadata": {
      "needs_background": "light"
     },
     "output_type": "display_data"
    }
   ],
   "source": [
    "y = encoder.predict(data)\n",
    "plt.scatter(y[:,0], y[:,1]);"
   ]
  },
  {
   "cell_type": "code",
   "execution_count": null,
   "metadata": {},
   "outputs": [],
   "source": []
  }
 ],
 "metadata": {
  "kernelspec": {
   "display_name": "Python 3.8.10 ('tf')",
   "language": "python",
   "name": "python3"
  },
  "language_info": {
   "codemirror_mode": {
    "name": "ipython",
    "version": 3
   },
   "file_extension": ".py",
   "mimetype": "text/x-python",
   "name": "python",
   "nbconvert_exporter": "python",
   "pygments_lexer": "ipython3",
   "version": "3.8.10"
  },
  "orig_nbformat": 4,
  "vscode": {
   "interpreter": {
    "hash": "e7580af449b29ae74e232076340076da0d1f5e5729b86173641c6c8b128833ef"
   }
  }
 },
 "nbformat": 4,
 "nbformat_minor": 2
}
